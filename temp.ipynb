{
 "cells": [
  {
   "cell_type": "code",
   "execution_count": null,
   "metadata": {
    "vscode": {
     "languageId": "plaintext"
    }
   },
   "outputs": [],
   "source": [
    "import pandas as pd \n",
    "\n",
    "df = pd.read_csv(r\"Shuchismita2000/Fake_news_detection/news.csv\")"
   ]
  },
  {
   "cell_type": "code",
   "execution_count": null,
   "metadata": {
    "vscode": {
     "languageId": "plaintext"
    }
   },
   "outputs": [],
   "source": []
  },
  {
   "cell_type": "markdown",
   "metadata": {},
   "source": [
    "### **Understanding the Dataset**\n",
    "\n",
    "The dataset consists of the following columns:\n",
    "\n",
    "1. **Unnamed: 0** → An unnecessary index column (to be dropped).\n",
    "2. **title** → The headline of the news article.\n",
    "3. **text** → The full text of the news article.\n",
    "4. **label** → The classification (`FAKE` or `REAL`).\n",
    "\n",
    "#### **Observations:**\n",
    "\n",
    "- The dataset contains both fake and real news articles.\n",
    "- The `title` column might help in classification, but `text` is the main content.\n",
    "- `label` is our target variable."
   ]
  }
 ],
 "metadata": {
  "language_info": {
   "name": "python"
  }
 },
 "nbformat": 4,
 "nbformat_minor": 2
}
